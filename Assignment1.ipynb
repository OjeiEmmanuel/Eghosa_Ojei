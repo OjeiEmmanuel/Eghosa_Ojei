{
 "cells": [
  {
   "cell_type": "code",
   "execution_count": 1,
   "id": "66820e85",
   "metadata": {},
   "outputs": [],
   "source": [
    "import pandas as pd "
   ]
  },
  {
   "cell_type": "code",
   "execution_count": 2,
   "id": "64d69064",
   "metadata": {},
   "outputs": [],
   "source": [
    "df = pd.read_csv(\"FoodBalanceSheets_E_Africa_NOFLAG.csv\",encoding=\"latin-1\")"
   ]
  },
  {
   "cell_type": "markdown",
   "id": "71deae67",
   "metadata": {},
   "source": [
    "question 11"
   ]
  },
  {
   "cell_type": "code",
   "execution_count": 11,
   "id": "2904eef5",
   "metadata": {},
   "outputs": [],
   "source": [
    "solution = df.groupby(\"Item\").sum()"
   ]
  },
  {
   "cell_type": "markdown",
   "id": "f3bd3867",
   "metadata": {},
   "source": [
    "question 12"
   ]
  },
  {
   "cell_type": "code",
   "execution_count": 10,
   "id": "c315e62d",
   "metadata": {},
   "outputs": [],
   "source": [
    "ans =df.describe()"
   ]
  },
  {
   "cell_type": "markdown",
   "id": "467850d9",
   "metadata": {},
   "source": [
    "Question 13"
   ]
  },
  {
   "cell_type": "code",
   "execution_count": 5,
   "id": "b22e19bd",
   "metadata": {},
   "outputs": [],
   "source": [
    "missing_data = df[\"Y2016\"].isnull().sum()\n",
    "percentage = (missing_data/len(df))*100"
   ]
  },
  {
   "cell_type": "markdown",
   "id": "deea88f6",
   "metadata": {},
   "source": [
    "Question 14 "
   ]
  },
  {
   "cell_type": "code",
   "execution_count": 7,
   "id": "c4e25d6b",
   "metadata": {},
   "outputs": [],
   "source": [
    "# this can be gotten through\n",
    "correlation =df.corr()\n",
    "# then you compare the answers"
   ]
  },
  {
   "cell_type": "markdown",
   "id": "6adc1093",
   "metadata": {},
   "source": [
    "Question 15"
   ]
  },
  {
   "cell_type": "code",
   "execution_count": 64,
   "id": "2623b285",
   "metadata": {},
   "outputs": [],
   "source": [
    "highest_sum_year = df.groupby(\"Element\")\n"
   ]
  },
  {
   "cell_type": "markdown",
   "id": "de6d5f27",
   "metadata": {},
   "source": [
    "Question 16"
   ]
  },
  {
   "cell_type": "code",
   "execution_count": 18,
   "id": "42383d2c",
   "metadata": {},
   "outputs": [],
   "source": [
    "Production_2014 = df.groupby(\"Element\").sum()"
   ]
  },
  {
   "cell_type": "markdown",
   "id": "4cb2bbda",
   "metadata": {},
   "source": [
    "Question 17"
   ]
  },
  {
   "cell_type": "code",
   "execution_count": 20,
   "id": "7612b574",
   "metadata": {},
   "outputs": [],
   "source": [
    "sum_2018 = df.groupby(\"Element\")[\"Y2018\"].sum()"
   ]
  },
  {
   "cell_type": "markdown",
   "id": "5cc2ecae",
   "metadata": {},
   "source": [
    "Question 18"
   ]
  },
  {
   "cell_type": "code",
   "execution_count": null,
   "id": "b06d04ab",
   "metadata": {},
   "outputs": [],
   "source": [
    "lowest_2018 = df.groupby(\"Element\")[\"Y2018\"].sum()"
   ]
  },
  {
   "cell_type": "markdown",
   "id": "af49e9e4",
   "metadata": {},
   "source": [
    "Question 19"
   ]
  },
  {
   "cell_type": "code",
   "execution_count": 88,
   "id": "2186b22c",
   "metadata": {},
   "outputs": [],
   "source": [
    "df_algeria = df.query(\"Area=='Algeria'\")\n",
    "answer = df_algeria.groupby('Element')[\"Y2018\"].sum()"
   ]
  },
  {
   "cell_type": "markdown",
   "id": "919c36d1",
   "metadata": {},
   "source": [
    "Question 20"
   ]
  },
  {
   "cell_type": "code",
   "execution_count": null,
   "id": "36187a47",
   "metadata": {},
   "outputs": [],
   "source": [
    "countries = df[\"Area\"].nunique()"
   ]
  }
 ],
 "metadata": {
  "kernelspec": {
   "display_name": "Python 3 (ipykernel)",
   "language": "python",
   "name": "python3"
  },
  "language_info": {
   "codemirror_mode": {
    "name": "ipython",
    "version": 3
   },
   "file_extension": ".py",
   "mimetype": "text/x-python",
   "name": "python",
   "nbconvert_exporter": "python",
   "pygments_lexer": "ipython3",
   "version": "3.9.7"
  }
 },
 "nbformat": 4,
 "nbformat_minor": 5
}
