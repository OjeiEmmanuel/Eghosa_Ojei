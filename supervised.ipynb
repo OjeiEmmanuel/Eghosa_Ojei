{
 "cells": [
  {
   "cell_type": "code",
   "execution_count": 29,
   "id": "7835a795",
   "metadata": {},
   "outputs": [],
   "source": [
    "import pandas as pd\n",
    "from sklearn.datasets import make_regression\n",
    "import sklearn\n"
   ]
  },
  {
   "cell_type": "code",
   "execution_count": 9,
   "id": "13e0e4a6",
   "metadata": {},
   "outputs": [],
   "source": [
    "x,y = make_regression(n_samples = 1000,n_features=100,n_informative=20,noise=0.2,random_state=1)"
   ]
  },
  {
   "cell_type": "code",
   "execution_count": 19,
   "id": "e43d5f13",
   "metadata": {},
   "outputs": [],
   "source": [
    "df = pd.DataFrame(x)"
   ]
  },
  {
   "cell_type": "code",
   "execution_count": 20,
   "id": "b3870c4e",
   "metadata": {},
   "outputs": [
    {
     "data": {
      "text/html": [
       "<div>\n",
       "<style scoped>\n",
       "    .dataframe tbody tr th:only-of-type {\n",
       "        vertical-align: middle;\n",
       "    }\n",
       "\n",
       "    .dataframe tbody tr th {\n",
       "        vertical-align: top;\n",
       "    }\n",
       "\n",
       "    .dataframe thead th {\n",
       "        text-align: right;\n",
       "    }\n",
       "</style>\n",
       "<table border=\"1\" class=\"dataframe\">\n",
       "  <thead>\n",
       "    <tr style=\"text-align: right;\">\n",
       "      <th></th>\n",
       "      <th>0</th>\n",
       "      <th>1</th>\n",
       "      <th>2</th>\n",
       "      <th>3</th>\n",
       "      <th>4</th>\n",
       "      <th>5</th>\n",
       "      <th>6</th>\n",
       "      <th>7</th>\n",
       "      <th>8</th>\n",
       "      <th>9</th>\n",
       "      <th>...</th>\n",
       "      <th>90</th>\n",
       "      <th>91</th>\n",
       "      <th>92</th>\n",
       "      <th>93</th>\n",
       "      <th>94</th>\n",
       "      <th>95</th>\n",
       "      <th>96</th>\n",
       "      <th>97</th>\n",
       "      <th>98</th>\n",
       "      <th>99</th>\n",
       "    </tr>\n",
       "  </thead>\n",
       "  <tbody>\n",
       "    <tr>\n",
       "      <th>0</th>\n",
       "      <td>1.107138</td>\n",
       "      <td>-0.080776</td>\n",
       "      <td>0.279412</td>\n",
       "      <td>-0.015660</td>\n",
       "      <td>0.726738</td>\n",
       "      <td>0.268385</td>\n",
       "      <td>0.849275</td>\n",
       "      <td>0.712615</td>\n",
       "      <td>-0.044770</td>\n",
       "      <td>0.805670</td>\n",
       "      <td>...</td>\n",
       "      <td>-1.205425</td>\n",
       "      <td>-1.232263</td>\n",
       "      <td>1.243376</td>\n",
       "      <td>-1.011874</td>\n",
       "      <td>0.082982</td>\n",
       "      <td>0.478736</td>\n",
       "      <td>-2.086459</td>\n",
       "      <td>0.194154</td>\n",
       "      <td>-0.110107</td>\n",
       "      <td>0.509848</td>\n",
       "    </tr>\n",
       "    <tr>\n",
       "      <th>1</th>\n",
       "      <td>-0.876495</td>\n",
       "      <td>-0.507616</td>\n",
       "      <td>-0.116144</td>\n",
       "      <td>-0.723581</td>\n",
       "      <td>0.292018</td>\n",
       "      <td>-0.936532</td>\n",
       "      <td>-0.949097</td>\n",
       "      <td>-0.239285</td>\n",
       "      <td>-0.534103</td>\n",
       "      <td>0.636294</td>\n",
       "      <td>...</td>\n",
       "      <td>0.678515</td>\n",
       "      <td>-2.180228</td>\n",
       "      <td>0.627632</td>\n",
       "      <td>-0.789187</td>\n",
       "      <td>-1.068121</td>\n",
       "      <td>-1.303079</td>\n",
       "      <td>-1.721232</td>\n",
       "      <td>-0.391589</td>\n",
       "      <td>0.549935</td>\n",
       "      <td>-0.116882</td>\n",
       "    </tr>\n",
       "    <tr>\n",
       "      <th>2</th>\n",
       "      <td>-1.489039</td>\n",
       "      <td>0.123853</td>\n",
       "      <td>-0.651070</td>\n",
       "      <td>-0.895407</td>\n",
       "      <td>1.118128</td>\n",
       "      <td>1.250891</td>\n",
       "      <td>0.340507</td>\n",
       "      <td>-0.336468</td>\n",
       "      <td>-2.090451</td>\n",
       "      <td>-0.106892</td>\n",
       "      <td>...</td>\n",
       "      <td>0.880723</td>\n",
       "      <td>0.298243</td>\n",
       "      <td>-0.272016</td>\n",
       "      <td>-1.280731</td>\n",
       "      <td>0.485603</td>\n",
       "      <td>-0.649342</td>\n",
       "      <td>-3.294858</td>\n",
       "      <td>0.554872</td>\n",
       "      <td>-1.033062</td>\n",
       "      <td>0.090840</td>\n",
       "    </tr>\n",
       "    <tr>\n",
       "      <th>3</th>\n",
       "      <td>-1.379671</td>\n",
       "      <td>1.212882</td>\n",
       "      <td>0.713705</td>\n",
       "      <td>-0.460171</td>\n",
       "      <td>-2.607542</td>\n",
       "      <td>0.418848</td>\n",
       "      <td>0.670165</td>\n",
       "      <td>-0.856025</td>\n",
       "      <td>0.289908</td>\n",
       "      <td>0.049161</td>\n",
       "      <td>...</td>\n",
       "      <td>0.305186</td>\n",
       "      <td>-0.805188</td>\n",
       "      <td>0.077418</td>\n",
       "      <td>-0.166475</td>\n",
       "      <td>1.685927</td>\n",
       "      <td>1.623088</td>\n",
       "      <td>-0.394004</td>\n",
       "      <td>-0.842670</td>\n",
       "      <td>0.702101</td>\n",
       "      <td>0.104404</td>\n",
       "    </tr>\n",
       "    <tr>\n",
       "      <th>4</th>\n",
       "      <td>-1.201559</td>\n",
       "      <td>0.635747</td>\n",
       "      <td>0.116082</td>\n",
       "      <td>-1.800881</td>\n",
       "      <td>2.174158</td>\n",
       "      <td>-0.979138</td>\n",
       "      <td>-1.689311</td>\n",
       "      <td>-0.879204</td>\n",
       "      <td>0.140742</td>\n",
       "      <td>2.217983</td>\n",
       "      <td>...</td>\n",
       "      <td>-0.846772</td>\n",
       "      <td>0.150587</td>\n",
       "      <td>1.284498</td>\n",
       "      <td>-1.563939</td>\n",
       "      <td>-0.896316</td>\n",
       "      <td>0.690359</td>\n",
       "      <td>1.188731</td>\n",
       "      <td>1.935135</td>\n",
       "      <td>-1.143291</td>\n",
       "      <td>1.794341</td>\n",
       "    </tr>\n",
       "  </tbody>\n",
       "</table>\n",
       "<p>5 rows × 100 columns</p>\n",
       "</div>"
      ],
      "text/plain": [
       "         0         1         2         3         4         5         6   \\\n",
       "0  1.107138 -0.080776  0.279412 -0.015660  0.726738  0.268385  0.849275   \n",
       "1 -0.876495 -0.507616 -0.116144 -0.723581  0.292018 -0.936532 -0.949097   \n",
       "2 -1.489039  0.123853 -0.651070 -0.895407  1.118128  1.250891  0.340507   \n",
       "3 -1.379671  1.212882  0.713705 -0.460171 -2.607542  0.418848  0.670165   \n",
       "4 -1.201559  0.635747  0.116082 -1.800881  2.174158 -0.979138 -1.689311   \n",
       "\n",
       "         7         8         9   ...        90        91        92        93  \\\n",
       "0  0.712615 -0.044770  0.805670  ... -1.205425 -1.232263  1.243376 -1.011874   \n",
       "1 -0.239285 -0.534103  0.636294  ...  0.678515 -2.180228  0.627632 -0.789187   \n",
       "2 -0.336468 -2.090451 -0.106892  ...  0.880723  0.298243 -0.272016 -1.280731   \n",
       "3 -0.856025  0.289908  0.049161  ...  0.305186 -0.805188  0.077418 -0.166475   \n",
       "4 -0.879204  0.140742  2.217983  ... -0.846772  0.150587  1.284498 -1.563939   \n",
       "\n",
       "         94        95        96        97        98        99  \n",
       "0  0.082982  0.478736 -2.086459  0.194154 -0.110107  0.509848  \n",
       "1 -1.068121 -1.303079 -1.721232 -0.391589  0.549935 -0.116882  \n",
       "2  0.485603 -0.649342 -3.294858  0.554872 -1.033062  0.090840  \n",
       "3  1.685927  1.623088 -0.394004 -0.842670  0.702101  0.104404  \n",
       "4 -0.896316  0.690359  1.188731  1.935135 -1.143291  1.794341  \n",
       "\n",
       "[5 rows x 100 columns]"
      ]
     },
     "execution_count": 20,
     "metadata": {},
     "output_type": "execute_result"
    }
   ],
   "source": [
    "df.head()"
   ]
  },
  {
   "cell_type": "code",
   "execution_count": 52,
   "id": "884aa476",
   "metadata": {},
   "outputs": [],
   "source": [
    "from sklearn.model_selection import train_test_split\n",
    "from sklearn.metrics import mean_absolute_error\n",
    "from sklearn.linear_model import LinearRegression\n",
    "from sklearn.feature_selection import SelectKBest\n",
    "from sklearn.feature_selection import f_regression\n",
    "import matplotlib.pyplot as plt"
   ]
  },
  {
   "cell_type": "code",
   "execution_count": 41,
   "id": "0e3f5a91",
   "metadata": {},
   "outputs": [],
   "source": [
    "X_train,X_test,y_train,y_test = train_test_split(x,y,test_size=0.33,random_state=42)"
   ]
  },
  {
   "cell_type": "markdown",
   "id": "ff629c08",
   "metadata": {},
   "source": [
    "using correlation feature selection"
   ]
  },
  {
   "cell_type": "code",
   "execution_count": 48,
   "id": "235f7ad0",
   "metadata": {},
   "outputs": [],
   "source": [
    "fs =SelectKBest(score_func=f_regression,k=\"all\")"
   ]
  },
  {
   "cell_type": "markdown",
   "id": "1875d1b2",
   "metadata": {},
   "source": [
    "fitting the data, so as to calculate the correlation between them"
   ]
  },
  {
   "cell_type": "code",
   "execution_count": 49,
   "id": "b6c3fb5a",
   "metadata": {},
   "outputs": [
    {
     "data": {
      "text/plain": [
       "SelectKBest(k='all', score_func=<function f_regression at 0x0000018081296B80>)"
      ]
     },
     "execution_count": 49,
     "metadata": {},
     "output_type": "execute_result"
    }
   ],
   "source": [
    "fs.fit(X_train,y_train)"
   ]
  },
  {
   "cell_type": "code",
   "execution_count": 50,
   "id": "c48a244a",
   "metadata": {},
   "outputs": [],
   "source": [
    "X_train_fs=fs.transform(X_train)"
   ]
  },
  {
   "cell_type": "code",
   "execution_count": 51,
   "id": "5b1730af",
   "metadata": {},
   "outputs": [],
   "source": [
    "x_test_fs = fs.transform(X_test)"
   ]
  },
  {
   "cell_type": "code",
   "execution_count": 60,
   "id": "4c07d68b",
   "metadata": {},
   "outputs": [
    {
     "data": {
      "image/png": "[encoded data removed]",
      "text/plain": [
       "<Figure size 432x288 with 1 Axes>"
      ]
     },
     "metadata": {
      "needs_background": "light"
     },
     "output_type": "display_data"
    }
   ],
   "source": [
    "#for i in range(len(fs.scores_)):\n",
    "#print(\"feature %d:%f\"%(i,fs.scores_[i]))\n",
    "plt.bar([i for i in range(len(fs.scores_))],fs.scores_)\n",
    "plt.xlabel(\"i\")\n",
    "plt.ylabel(\"fs.scores\")\n",
    "plt.title(\"correlation feature selection\")\n",
    "plt.show()\n",
    "    "
   ]
  },
  {
   "cell_type": "markdown",
   "id": "a57e3c83",
   "metadata": {},
   "source": [
    "baseline mae"
   ]
  },
  {
   "cell_type": "code",
   "execution_count": 61,
   "id": "9ddcde96",
   "metadata": {},
   "outputs": [],
   "source": [
    "y_train_mean = y_train.mean()"
   ]
  },
  {
   "cell_type": "code",
   "execution_count": 62,
   "id": "6721baa6",
   "metadata": {},
   "outputs": [],
   "source": [
    "y_base = [y_train_mean]*len(y_train)"
   ]
  },
  {
   "cell_type": "code",
   "execution_count": 63,
   "id": "dbbddc0a",
   "metadata": {},
   "outputs": [],
   "source": [
    "baseline_mae = mean_absolute_error(y_base,y_train)"
   ]
  },
  {
   "cell_type": "code",
   "execution_count": 64,
   "id": "9102b660",
   "metadata": {},
   "outputs": [
    {
     "data": {
      "text/plain": [
       "217.04821984814518"
      ]
     },
     "execution_count": 64,
     "metadata": {},
     "output_type": "execute_result"
    }
   ],
   "source": [
    "baseline_mae"
   ]
  },
  {
   "cell_type": "code",
   "execution_count": 66,
   "id": "43250ec3",
   "metadata": {},
   "outputs": [],
   "source": [
    "model = LinearRegression()"
   ]
  },
  {
   "cell_type": "code",
   "execution_count": 67,
   "id": "65bcb4a8",
   "metadata": {},
   "outputs": [],
   "source": [
    "model.fit(X_train,y_train)\n",
    "y_pred = model.predict(X_test)\n",
    "test_mae = mean_absolute_error(y_test,y_pred)"
   ]
  },
  {
   "cell_type": "code",
   "execution_count": 68,
   "id": "8b1ddb23",
   "metadata": {},
   "outputs": [
    {
     "data": {
      "text/plain": [
       "0.17369358602250964"
      ]
     },
     "execution_count": 68,
     "metadata": {},
     "output_type": "execute_result"
    }
   ],
   "source": [
    "test_mae"
   ]
  },
  {
   "cell_type": "code",
   "execution_count": null,
   "id": "d0c17892",
   "metadata": {},
   "outputs": [],
   "source": [
    "  "
   ]
  }
 ],
 "metadata": {
  "kernelspec": {
   "display_name": "Python 3 (ipykernel)",
   "language": "python",
   "name": "python3"
  },
  "language_info": {
   "codemirror_mode": {
    "name": "ipython",
    "version": 3
   },
   "file_extension": ".py",
   "mimetype": "text/x-python",
   "name": "python",
   "nbconvert_exporter": "python",
   "pygments_lexer": "ipython3",
   "version": "3.9.7"
  }
 },
 "nbformat": 4,
 "nbformat_minor": 5
}
